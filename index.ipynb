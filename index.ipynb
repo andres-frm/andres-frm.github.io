{
  "cells": [
    {
      "cell_type": "raw",
      "metadata": {},
      "source": [
        "---\n",
        "fig-cap-location: bottom\n",
        "---"
      ],
      "id": "5726ab3c"
    },
    {
      "cell_type": "markdown",
      "metadata": {},
      "source": [
        "![nos casamos?](IMG_8708.jpg){fig-align=\"center\" width=\"345\"}\n",
        "\n",
        "\n",
        "```{css, echo = FALSE}\n",
        ".justify {\n",
        "  text-align: center !important\n",
        "}\n",
        "```\n",
        "\n",
        "\n",
        "# porque 2 es mejor que 1"
      ],
      "id": "5f99cb22"
    }
  ],
  "metadata": {
    "kernelspec": {
      "display_name": "Python 3",
      "language": "python",
      "name": "python3"
    }
  },
  "nbformat": 4,
  "nbformat_minor": 5
}